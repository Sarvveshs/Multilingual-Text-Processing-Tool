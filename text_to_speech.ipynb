{
  "nbformat": 4,
  "nbformat_minor": 0,
  "metadata": {
    "colab": {
      "provenance": []
    },
    "kernelspec": {
      "name": "python3",
      "display_name": "Python 3"
    },
    "language_info": {
      "name": "python"
    }
  },
  "cells": [
    {
      "cell_type": "code",
      "execution_count": null,
      "metadata": {
        "colab": {
          "base_uri": "https://localhost:8080/"
        },
        "id": "JmeEWyxy3GJu",
        "outputId": "98c0dd97-3ce3-42ac-9ea8-6522ff9a7bc3"
      },
      "outputs": [
        {
          "output_type": "stream",
          "name": "stdout",
          "text": [
            "Collecting gtts\n",
            "  Downloading gTTS-2.5.1-py3-none-any.whl (29 kB)\n",
            "Requirement already satisfied: requests<3,>=2.27 in /usr/local/lib/python3.10/dist-packages (from gtts) (2.31.0)\n",
            "Requirement already satisfied: click<8.2,>=7.1 in /usr/local/lib/python3.10/dist-packages (from gtts) (8.1.7)\n",
            "Requirement already satisfied: charset-normalizer<4,>=2 in /usr/local/lib/python3.10/dist-packages (from requests<3,>=2.27->gtts) (3.3.2)\n",
            "Requirement already satisfied: idna<4,>=2.5 in /usr/local/lib/python3.10/dist-packages (from requests<3,>=2.27->gtts) (3.7)\n",
            "Requirement already satisfied: urllib3<3,>=1.21.1 in /usr/local/lib/python3.10/dist-packages (from requests<3,>=2.27->gtts) (2.0.7)\n",
            "Requirement already satisfied: certifi>=2017.4.17 in /usr/local/lib/python3.10/dist-packages (from requests<3,>=2.27->gtts) (2024.7.4)\n",
            "Installing collected packages: gtts\n",
            "Successfully installed gtts-2.5.1\n"
          ]
        }
      ],
      "source": [
        "!pip install gtts\n"
      ]
    },
    {
      "cell_type": "code",
      "source": [
        "# First, ensure you have gTTS installed by running:\n",
        "# pip install gtts\n",
        "\n",
        "import os\n",
        "from gtts import gTTS\n",
        "import time\n",
        "\n",
        "# Path to your Thirukural text file\n",
        "thirukural_file = '/content/kural(1).txt'\n",
        "\n",
        "# Maximum characters gTTS allows per request\n",
        "MAX_CHARS_PER_REQUEST = 5000\n",
        "\n",
        "# Function to split text into chunks respecting verse boundaries\n",
        "def split_text_into_chunks(text, max_chars_per_request):\n",
        "    chunks = []\n",
        "    current_chunk = ''\n",
        "\n",
        "    lines = text.splitlines()\n",
        "    for line in lines:\n",
        "        if len(current_chunk) + len(line) + 1 <= max_chars_per_request:  # +1 for newline character\n",
        "            current_chunk += line + '\\n'\n",
        "        else:\n",
        "            chunks.append(current_chunk.strip())  # Strip trailing newline\n",
        "            current_chunk = line + '\\n'\n",
        "\n",
        "    if current_chunk:\n",
        "        chunks.append(current_chunk.strip())  # Strip trailing newline\n",
        "\n",
        "    return chunks\n",
        "\n",
        "# Read Thirukural text from file\n",
        "with open(thirukural_file, 'r', encoding='utf-8') as f:\n",
        "    thirukural_text = f.read()\n",
        "\n",
        "# Split text into manageable chunks respecting verse boundaries\n",
        "text_chunks = split_text_into_chunks(thirukural_text, MAX_CHARS_PER_REQUEST)\n",
        "\n",
        "# Output directory for audio files\n",
        "output_dir = r'C:\\Users\\sarvesh\\Desktop\\classi_info'\n",
        "\n",
        "# Create output directory if it doesn't exist\n",
        "os.makedirs(output_dir, exist_ok=True)\n",
        "\n",
        "# Convert each chunk to audio using gTTS\n",
        "for i, chunk in enumerate(text_chunks):\n",
        "    try:\n",
        "        tts = gTTS(text=chunk, lang='ta')  # Assuming the language is Tamil ('ta')\n",
        "        # Define your desired output file name format here\n",
        "        audio_file = os.path.join(output_dir, f'thirukural_part_{i+1}.mp3')\n",
        "        tts.save(audio_file)\n",
        "        print(f'Chunk {i+1} converted to audio.')\n",
        "    except Exception as e:\n",
        "        print(f'Error converting chunk {i+1}: {e}')\n",
        "        break\n",
        "\n",
        "    # Track progress\n",
        "    print(f'Completed {i+1}/{len(text_chunks)} chunks.')\n",
        "    time.sleep(1)  # Optional: Add a small delay to avoid hitting rate limits\n",
        "\n",
        "print('Conversion complete.')\n"
      ],
      "metadata": {
        "colab": {
          "base_uri": "https://localhost:8080/"
        },
        "id": "w7S7_tfm4zP5",
        "outputId": "998ea290-16b1-4f20-f79c-3a632a439323"
      },
      "execution_count": null,
      "outputs": [
        {
          "output_type": "stream",
          "name": "stdout",
          "text": [
            "Chunk 1 converted to audio.\n",
            "Completed 1/4 chunks.\n",
            "Chunk 2 converted to audio.\n",
            "Completed 2/4 chunks.\n",
            "Chunk 3 converted to audio.\n",
            "Completed 3/4 chunks.\n",
            "Chunk 4 converted to audio.\n",
            "Completed 4/4 chunks.\n",
            "Conversion complete.\n"
          ]
        }
      ]
    },
    {
      "cell_type": "code",
      "source": [
        "# Path to your Thirukural text file\n",
        "thirukural_file = '/content/kural.txt'\n",
        "\n",
        "# Output path for the new text file containing verses 666 to 1330\n",
        "output_file = '/content/kural_666_to_1330.txt'\n",
        "\n",
        "# Read Thirukural text from file\n",
        "with open(thirukural_file, 'r', encoding='utf-8') as f:\n",
        "    thirukural_text = f.read()\n",
        "\n",
        "# Split text into lines\n",
        "verses = thirukural_text.splitlines()\n",
        "\n",
        "# Check if we have enough verses\n",
        "if len(verses) < 1330:\n",
        "    print(f\"Expected at least 1330 verses, but found only {len(verses)} verses.\")\n",
        "else:\n",
        "    # Extract verses from 666 to 1330 (Python indexing starts from 0, so 665 to 1329)\n",
        "    selected_verses = verses[665:1330]\n",
        "\n",
        "    # Join the selected verses back into a single string\n",
        "    selected_text = '\\n'.join(selected_verses)\n",
        "\n",
        "    # Write the selected verses to the output file\n",
        "    with open(output_file, 'w', encoding='utf-8') as f:\n",
        "        f.write(selected_text)\n",
        "\n",
        "    print(f'Extracted verses 666 to 1330 and saved to {output_file}')\n"
      ],
      "metadata": {
        "colab": {
          "base_uri": "https://localhost:8080/"
        },
        "id": "2p5QqHN_48U8",
        "outputId": "2fa7e38f-c157-4965-9600-2b32dbc07b28"
      },
      "execution_count": null,
      "outputs": [
        {
          "output_type": "stream",
          "name": "stdout",
          "text": [
            "Extracted verses 666 to 1330 and saved to /content/kural_666_to_1330.txt\n"
          ]
        }
      ]
    },
    {
      "cell_type": "code",
      "source": [
        "import os\n",
        "from gtts import gTTS\n",
        "import time\n",
        "\n",
        "# Path to your extracted Thirukural text file\n",
        "thirukural_file = '/content/kural_666_to_1330.txt'\n",
        "\n",
        "# Maximum characters gTTS allows per request\n",
        "MAX_CHARS_PER_REQUEST = 5000\n",
        "\n",
        "# Function to split text into chunks respecting verse boundaries\n",
        "def split_text_into_chunks(text, max_chars_per_request):\n",
        "    chunks = []\n",
        "    current_chunk = ''\n",
        "\n",
        "    lines = text.splitlines()\n",
        "    for line in lines:\n",
        "        if len(current_chunk) + len(line) + 1 <= max_chars_per_request:  # +1 for newline character\n",
        "            current_chunk += line + '\\n'\n",
        "        else:\n",
        "            chunks.append(current_chunk.strip())  # Strip trailing newline\n",
        "            current_chunk = line + '\\n'\n",
        "\n",
        "    if current_chunk:\n",
        "        chunks.append(current_chunk.strip())  # Strip trailing newline\n",
        "\n",
        "    return chunks\n",
        "\n",
        "# Read Thirukural text from file\n",
        "with open(thirukural_file, 'r', encoding='utf-8') as f:\n",
        "    thirukural_text = f.read()\n",
        "\n",
        "# Split text into manageable chunks respecting verse boundaries\n",
        "text_chunks = split_text_into_chunks(thirukural_text, MAX_CHARS_PER_REQUEST)\n",
        "\n",
        "# Output directory for audio files\n",
        "output_dir = r'C:\\Users\\sarvesh\\Desktop\\classi_info'\n",
        "\n",
        "# Create output directory if it doesn't exist\n",
        "os.makedirs(output_dir, exist_ok=True)\n",
        "\n",
        "# Convert each chunk to audio using gTTS\n",
        "for i, chunk in enumerate(text_chunks):\n",
        "    try:\n",
        "        tts = gTTS(text=chunk, lang='ta')  # Assuming the language is Tamil ('ta')\n",
        "        # Define your desired output file name format here\n",
        "        audio_file = os.path.join(output_dir, f'thirukural_part_{i + 666}.mp3')\n",
        "        tts.save(audio_file)\n",
        "        print(f'Chunk {i + 666} converted to audio.')\n",
        "    except Exception as e:\n",
        "        print(f'Error converting chunk {i + 666}: {e}')\n",
        "        break\n",
        "\n",
        "    # Track progress\n",
        "    print(f'Completed {i + 666}/{665 + len(text_chunks)} chunks.')\n",
        "    time.sleep(1)  # Optional: Add a small delay to avoid hitting rate limits\n",
        "\n",
        "print('Conversion complete.')\n"
      ],
      "metadata": {
        "colab": {
          "base_uri": "https://localhost:8080/"
        },
        "id": "okmoHly0Po3f",
        "outputId": "9babe70e-2af1-428c-8de8-0d6edb23ef19"
      },
      "execution_count": null,
      "outputs": [
        {
          "output_type": "stream",
          "name": "stdout",
          "text": [
            "Chunk 666 converted to audio.\n",
            "Completed 666/688 chunks.\n",
            "Chunk 667 converted to audio.\n",
            "Completed 667/688 chunks.\n",
            "Chunk 668 converted to audio.\n",
            "Completed 668/688 chunks.\n",
            "Chunk 669 converted to audio.\n",
            "Completed 669/688 chunks.\n",
            "Chunk 670 converted to audio.\n",
            "Completed 670/688 chunks.\n",
            "Chunk 671 converted to audio.\n",
            "Completed 671/688 chunks.\n",
            "Chunk 672 converted to audio.\n",
            "Completed 672/688 chunks.\n",
            "Chunk 673 converted to audio.\n",
            "Completed 673/688 chunks.\n",
            "Chunk 674 converted to audio.\n",
            "Completed 674/688 chunks.\n",
            "Chunk 675 converted to audio.\n",
            "Completed 675/688 chunks.\n",
            "Chunk 676 converted to audio.\n",
            "Completed 676/688 chunks.\n",
            "Chunk 677 converted to audio.\n",
            "Completed 677/688 chunks.\n",
            "Chunk 678 converted to audio.\n",
            "Completed 678/688 chunks.\n",
            "Chunk 679 converted to audio.\n",
            "Completed 679/688 chunks.\n",
            "Chunk 680 converted to audio.\n",
            "Completed 680/688 chunks.\n",
            "Chunk 681 converted to audio.\n",
            "Completed 681/688 chunks.\n",
            "Chunk 682 converted to audio.\n",
            "Completed 682/688 chunks.\n",
            "Chunk 683 converted to audio.\n",
            "Completed 683/688 chunks.\n",
            "Error converting chunk 684: 429 (Too Many Requests) from TTS API. Probable cause: Unknown\n",
            "Conversion complete.\n"
          ]
        }
      ]
    },
    {
      "cell_type": "code",
      "source": [
        "!pip install pillow gtts moviepy\n"
      ],
      "metadata": {
        "colab": {
          "base_uri": "https://localhost:8080/"
        },
        "id": "5TykS600Yf9r",
        "outputId": "f716de66-4b45-4322-cb7f-81b27c20a8b2"
      },
      "execution_count": null,
      "outputs": [
        {
          "output_type": "stream",
          "name": "stdout",
          "text": [
            "Requirement already satisfied: pillow in /usr/local/lib/python3.10/dist-packages (9.4.0)\n",
            "Requirement already satisfied: gtts in /usr/local/lib/python3.10/dist-packages (2.5.1)\n",
            "Requirement already satisfied: moviepy in /usr/local/lib/python3.10/dist-packages (1.0.3)\n",
            "Requirement already satisfied: requests<3,>=2.27 in /usr/local/lib/python3.10/dist-packages (from gtts) (2.31.0)\n",
            "Requirement already satisfied: click<8.2,>=7.1 in /usr/local/lib/python3.10/dist-packages (from gtts) (8.1.7)\n",
            "Requirement already satisfied: decorator<5.0,>=4.0.2 in /usr/local/lib/python3.10/dist-packages (from moviepy) (4.4.2)\n",
            "Requirement already satisfied: tqdm<5.0,>=4.11.2 in /usr/local/lib/python3.10/dist-packages (from moviepy) (4.66.4)\n",
            "Requirement already satisfied: proglog<=1.0.0 in /usr/local/lib/python3.10/dist-packages (from moviepy) (0.1.10)\n",
            "Requirement already satisfied: numpy>=1.17.3 in /usr/local/lib/python3.10/dist-packages (from moviepy) (1.25.2)\n",
            "Requirement already satisfied: imageio<3.0,>=2.5 in /usr/local/lib/python3.10/dist-packages (from moviepy) (2.31.6)\n",
            "Requirement already satisfied: imageio-ffmpeg>=0.2.0 in /usr/local/lib/python3.10/dist-packages (from moviepy) (0.5.1)\n",
            "Requirement already satisfied: setuptools in /usr/local/lib/python3.10/dist-packages (from imageio-ffmpeg>=0.2.0->moviepy) (67.7.2)\n",
            "Requirement already satisfied: charset-normalizer<4,>=2 in /usr/local/lib/python3.10/dist-packages (from requests<3,>=2.27->gtts) (3.3.2)\n",
            "Requirement already satisfied: idna<4,>=2.5 in /usr/local/lib/python3.10/dist-packages (from requests<3,>=2.27->gtts) (3.7)\n",
            "Requirement already satisfied: urllib3<3,>=1.21.1 in /usr/local/lib/python3.10/dist-packages (from requests<3,>=2.27->gtts) (2.0.7)\n",
            "Requirement already satisfied: certifi>=2017.4.17 in /usr/local/lib/python3.10/dist-packages (from requests<3,>=2.27->gtts) (2024.7.4)\n"
          ]
        }
      ]
    },
    {
      "cell_type": "code",
      "source": [
        "\n",
        "\n",
        ""
      ],
      "metadata": {
        "id": "HS2pEuhQbpAa"
      },
      "execution_count": null,
      "outputs": []
    },
    {
      "cell_type": "code",
      "source": [],
      "metadata": {
        "id": "PoMu76oEc41d"
      },
      "execution_count": null,
      "outputs": []
    },
    {
      "cell_type": "code",
      "source": [],
      "metadata": {
        "id": "4QqBKdSec3ek"
      },
      "execution_count": null,
      "outputs": []
    }
  ]
}